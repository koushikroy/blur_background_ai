{
 "cells": [
  {
   "cell_type": "code",
   "execution_count": null,
   "metadata": {},
   "outputs": [],
   "source": [
    "# Imports\n",
    "from PIL import Image, ImageFilter\n",
    "import numpy as np\n",
    "from transformers import pipeline\n",
    "import gradio as gr\n",
    "\n",
    "model = pipeline(\"image-segmentation\")\n",
    "\n",
    "def image_objects(image):\n",
    "    pred = model(image)\n",
    "    pred_object_list = [x['label'] for x in pred]\n",
    "    return gr.Dropdown.update(choices = pred_object_list, interactive = True)\n",
    "\n",
    "\n",
    "def Recommend_new(x):\n",
    "    return x + \": Highest Cosine Similarity\"\n",
    "\n",
    "app = gr.Blocks()\n",
    "\n",
    "options = ['Placeholder A', 'Placeholder B', 'Placeholder C']\n",
    "with app:\n",
    "    image_input = gr.Image(type=\"pil\")\n",
    "\n",
    "    text_options = gr.Dropdown()\n",
    "    b2 = gr.Button(\"Provide Additional options\")\n",
    "    \n",
    "    new_title = gr.Textbox(label=\"Here you go!\")\n",
    "    b3 = gr.Button(\"Recommend a new title\")\n",
    "\n",
    "    b2.click(image_objects, inputs=image_input, outputs=text_options)\n",
    "    # b3.click(Recommend_new, inputs=text_options, outputs=new_title)\n",
    "\n",
    "\n",
    "app.launch(debug=True)"
   ]
  },
  {
   "cell_type": "code",
   "execution_count": null,
   "metadata": {},
   "outputs": [],
   "source": [
    "# Imports\n",
    "from PIL import Image, ImageFilter\n",
    "import numpy as np\n",
    "from transformers import pipeline\n",
    "import gradio as gr\n",
    "\n",
    "model = pipeline(\"image-segmentation\")\n",
    "\n",
    "def image_objects(image):\n",
    "    pred = model(image)\n",
    "    pred_object_list = [x['label'] for x in pred]\n",
    "    return gr.Dropdown.update(choices = pred_object_list, interactive = True)\n",
    "\n",
    "\n",
    "def Recommend_new(x):\n",
    "    return x + \": Highest Cosine Similarity\"\n",
    "\n",
    "app = gr.Blocks()\n",
    "\n",
    "options = ['Placeholder A', 'Placeholder B', 'Placeholder C']\n",
    "with app:\n",
    "    with gr.Row():\n",
    "        with gr.Column():\n",
    "            image_input = gr.Image(type=\"pil\")\n",
    "        with gr.Column():\n",
    "            text_options = gr.Dropdown()\n",
    "            b2 = gr.Button(\"Provide Additional options\")\n",
    "\n",
    "    b2.click(image_objects, inputs=image_input, outputs=text_options)\n",
    "\n",
    "\n",
    "app.launch(debug=True)"
   ]
  },
  {
   "cell_type": "code",
   "execution_count": null,
   "metadata": {},
   "outputs": [],
   "source": [
    "# Imports\n",
    "from PIL import Image, ImageFilter\n",
    "import numpy as np\n",
    "from transformers import pipeline\n",
    "import gradio as gr\n",
    "\n",
    "model = pipeline(\"image-segmentation\")\n",
    "\n",
    "def image_objects(image):\n",
    "    pred = model(image)\n",
    "    pred_object_list = [x['label'] for x in pred]\n",
    "    return gr.Dropdown.update(choices = pred_object_list, interactive = True)\n",
    "\n",
    "def blurr_object(image, object, blur_strength):\n",
    "    pred = model(image)\n",
    "\n",
    "    mask_array = np.asarray(pred[0]['mask'])/255\n",
    "    image_array = np.asarray(image)\n",
    "\n",
    "    mask_array_three_channel = np.zeros_like(image_array)\n",
    "    mask_array_three_channel[:,:,0] = mask_array\n",
    "    mask_array_three_channel[:,:,1] = mask_array\n",
    "    mask_array_three_channel[:,:,2] = mask_array\n",
    "\n",
    "    segmented_image = image_array*mask_array_three_channel\n",
    "\n",
    "    blur_image = np.asarray(image.filter(ImageFilter.GaussianBlur(radius=blur_strength)))\n",
    "    mask_array_three_channel_invert = 1-mask_array_three_channel\n",
    "    blur_image_reverse_mask = blur_image*mask_array_three_channel_invert\n",
    "\n",
    "    return Image.fromarray((blur_image_reverse_mask).astype(np.uint8)+segmented_image.astype(np.uint8))\n",
    "\n",
    "app = gr.Blocks()\n",
    "\n",
    "\n",
    "with app:\n",
    "    with gr.Row():\n",
    "        with gr.Column():\n",
    "            gr.Markdown(\n",
    "            \"\"\"\n",
    "            # Input Image\n",
    "            \"\"\")\n",
    "            image_input = gr.Image(type=\"pil\")\n",
    "            image_submit_button = gr.Button(\"Show Objects List\")\n",
    "\n",
    "        with gr.Column():\n",
    "            gr.Markdown(\n",
    "            \"\"\"\n",
    "            # Found Objects\n",
    "            \"\"\")\n",
    "            blur_slider = gr.Slider(minimum=1, maximum=10, value=3, label=\"Adject Blur Strength\")\n",
    "            object_output = gr.Dropdown(label=\"Select Object From Dropdown\")\n",
    "            object_submit_button = gr.Button(\"Show Blurred Image\")\n",
    "    \n",
    "    with gr.Row():\n",
    "        gr.Markdown(\n",
    "            \"\"\"\n",
    "            # Blurred Image Output\n",
    "            \"\"\")\n",
    "        image_output = gr.Image()\n",
    "\n",
    "    image_submit_button.click(fn=image_objects, \n",
    "        inputs=image_input, \n",
    "        outputs=object_output)\n",
    "\n",
    "    object_submit_button.click(fn=blurr_object, \n",
    "        inputs=[image_input, object_output, blur_slider],\n",
    "        outputs=image_output)\n",
    "\n",
    "app.launch(debug=True)"
   ]
  },
  {
   "cell_type": "code",
   "execution_count": 55,
   "metadata": {},
   "outputs": [
    {
     "name": "stderr",
     "output_type": "stream",
     "text": [
      "No model was supplied, defaulted to facebook/detr-resnet-50-panoptic (https://huggingface.co/facebook/detr-resnet-50-panoptic)\n"
     ]
    },
    {
     "name": "stdout",
     "output_type": "stream",
     "text": [
      "Running on local URL:  http://127.0.0.1:7874/\n",
      "\n",
      "To create a public link, set `share=True` in `launch()`.\n"
     ]
    },
    {
     "data": {
      "text/html": [
       "<div><iframe src=\"http://127.0.0.1:7874/\" width=\"900\" height=\"500\" allow=\"autoplay; camera; microphone;\" frameborder=\"0\" allowfullscreen></iframe></div>"
      ],
      "text/plain": [
       "<IPython.core.display.HTML object>"
      ]
     },
     "metadata": {},
     "output_type": "display_data"
    },
    {
     "name": "stdout",
     "output_type": "stream",
     "text": [
      "Keyboard interruption in main thread... closing server.\n"
     ]
    },
    {
     "data": {
      "text/plain": [
       "(<gradio.routes.App at 0x7fb2cc1e1a10>, 'http://127.0.0.1:7874/', None)"
      ]
     },
     "execution_count": 55,
     "metadata": {},
     "output_type": "execute_result"
    }
   ],
   "source": [
    "# Imports\n",
    "from PIL import Image, ImageFilter\n",
    "import numpy as np\n",
    "from transformers import pipeline\n",
    "import gradio as gr\n",
    "\n",
    "model = pipeline(\"image-segmentation\")\n",
    "\n",
    "def image_objects(image):\n",
    "    pred = model(image)\n",
    "    pred_object_list = [str(i)+'_'+x['label'] for i, x in enumerate(pred)]\n",
    "    return gr.Dropdown.update(choices = pred_object_list, interactive = True)\n",
    "\n",
    "def blurr_object(image, object, blur_strength):\n",
    "    pred = model(image)\n",
    "    object_number = int(object.split('_')[0])\n",
    "    mask_array = np.asarray(pred[object_number]['mask'])/255\n",
    "    image_array = np.asarray(image)\n",
    "\n",
    "    mask_array_three_channel = np.zeros_like(image_array)\n",
    "    mask_array_three_channel[:,:,0] = mask_array\n",
    "    mask_array_three_channel[:,:,1] = mask_array\n",
    "    mask_array_three_channel[:,:,2] = mask_array\n",
    "\n",
    "    segmented_image = image_array*mask_array_three_channel\n",
    "\n",
    "    blur_image = np.asarray(image.filter(ImageFilter.GaussianBlur(radius=blur_strength)))\n",
    "    mask_array_three_channel_invert = 1-mask_array_three_channel\n",
    "    blur_image_reverse_mask = blur_image*mask_array_three_channel_invert\n",
    "\n",
    "    return Image.fromarray((blur_image_reverse_mask).astype(np.uint8)+segmented_image.astype(np.uint8))\n",
    "\n",
    "app = gr.Blocks()\n",
    "\n",
    "\n",
    "with app:\n",
    "    with gr.Row():\n",
    "        with gr.Column():\n",
    "            gr.Markdown(\n",
    "            \"\"\"\n",
    "            # Input Image\n",
    "            \"\"\")\n",
    "            image_input = gr.Image(type=\"pil\")\n",
    "            image_submit_button = gr.Button(\"Show Objects List\")\n",
    "\n",
    "        with gr.Column():\n",
    "            gr.Markdown(\n",
    "            \"\"\"\n",
    "            # Found Objects\n",
    "            \"\"\")\n",
    "            blur_slider = gr.Slider(minimum=1, maximum=10, value=3, label=\"Adject Blur Strength\")\n",
    "            object_output = gr.Dropdown(label=\"Select Object From Dropdown\")\n",
    "            object_submit_button = gr.Button(\"Show Blurred Image\")\n",
    "    \n",
    "    with gr.Row():\n",
    "        gr.Markdown(\n",
    "            \"\"\"\n",
    "            # Blurred Image Output\n",
    "            \"\"\")\n",
    "        image_output = gr.Image()\n",
    "\n",
    "    image_submit_button.click(fn=image_objects, \n",
    "        inputs=image_input, \n",
    "        outputs=object_output)\n",
    "\n",
    "    object_submit_button.click(fn=blurr_object, \n",
    "        inputs=[image_input, object_output, blur_slider],\n",
    "        outputs=image_output)\n",
    "\n",
    "app.launch(debug=True)"
   ]
  },
  {
   "cell_type": "code",
   "execution_count": 53,
   "metadata": {},
   "outputs": [
    {
     "data": {
      "text/plain": [
       "'1'"
      ]
     },
     "execution_count": 53,
     "metadata": {},
     "output_type": "execute_result"
    }
   ],
   "source": [
    "s = '1_thre'\n",
    "s.split('_')[0]"
   ]
  },
  {
   "cell_type": "code",
   "execution_count": null,
   "metadata": {},
   "outputs": [],
   "source": []
  }
 ],
 "metadata": {
  "kernelspec": {
   "display_name": "Python 3.7.13 ('mediapipe3_7')",
   "language": "python",
   "name": "python3"
  },
  "language_info": {
   "codemirror_mode": {
    "name": "ipython",
    "version": 3
   },
   "file_extension": ".py",
   "mimetype": "text/x-python",
   "name": "python",
   "nbconvert_exporter": "python",
   "pygments_lexer": "ipython3",
   "version": "3.7.13"
  },
  "orig_nbformat": 4,
  "vscode": {
   "interpreter": {
    "hash": "3892ca79226ccd6ecb106c859b6cc93f3d6de5d8b2b72f1c974fc78a6ddc318d"
   }
  }
 },
 "nbformat": 4,
 "nbformat_minor": 2
}
